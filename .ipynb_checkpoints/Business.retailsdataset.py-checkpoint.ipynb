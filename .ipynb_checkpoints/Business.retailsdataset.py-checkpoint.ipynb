{
 "cells": [
  {
   "cell_type": "code",
   "execution_count": null,
   "id": "1547a15e",
   "metadata": {},
   "outputs": [],
   "source": [
    "import pandas as pd \n",
    "import numpy as np"
   ]
  },
  {
   "cell_type": "markdown",
   "id": "ab19a91d",
   "metadata": {},
   "source": [
    "## Problem statment\n",
    "**Is there profit on sales over the years.**\n",
    "**Is the cost of input too high for the progit generated.**\n",
    "# 2. \n",
    "**How can it be determine that there has been profit on sales over the years.**\n",
    "**It has to be factored it the cost of input is too high for the profit generated.**\n",
    "# 3.\n",
    "**Lets look at the expenditure cost and how it effect the profit.**\n"
   ]
  },
  {
   "cell_type": "code",
   "execution_count": 5,
   "id": "96335ffa",
   "metadata": {},
   "outputs": [],
   "source": [
    "busretail_df = pd.read_csv('business.retailsales2.csv')"
   ]
  },
  {
   "cell_type": "code",
   "execution_count": 6,
   "id": "ac05ea7c",
   "metadata": {},
   "outputs": [
    {
     "data": {
      "text/html": [
       "<div>\n",
       "<style scoped>\n",
       "    .dataframe tbody tr th:only-of-type {\n",
       "        vertical-align: middle;\n",
       "    }\n",
       "\n",
       "    .dataframe tbody tr th {\n",
       "        vertical-align: top;\n",
       "    }\n",
       "\n",
       "    .dataframe thead th {\n",
       "        text-align: right;\n",
       "    }\n",
       "</style>\n",
       "<table border=\"1\" class=\"dataframe\">\n",
       "  <thead>\n",
       "    <tr style=\"text-align: right;\">\n",
       "      <th></th>\n",
       "      <th>Month</th>\n",
       "      <th>Year</th>\n",
       "      <th>Total Orders</th>\n",
       "      <th>Gross Sales</th>\n",
       "      <th>Discounts</th>\n",
       "      <th>Returns</th>\n",
       "      <th>Net Sales</th>\n",
       "      <th>Shipping</th>\n",
       "      <th>Total Sales</th>\n",
       "    </tr>\n",
       "  </thead>\n",
       "  <tbody>\n",
       "    <tr>\n",
       "      <th>0</th>\n",
       "      <td>January</td>\n",
       "      <td>2017</td>\n",
       "      <td>73</td>\n",
       "      <td>8861.5</td>\n",
       "      <td>-129.40</td>\n",
       "      <td>-448.45</td>\n",
       "      <td>8283.65</td>\n",
       "      <td>1088.30</td>\n",
       "      <td>9371.95</td>\n",
       "    </tr>\n",
       "    <tr>\n",
       "      <th>1</th>\n",
       "      <td>February</td>\n",
       "      <td>2017</td>\n",
       "      <td>56</td>\n",
       "      <td>6908.5</td>\n",
       "      <td>-104.70</td>\n",
       "      <td>-416.20</td>\n",
       "      <td>6387.60</td>\n",
       "      <td>892.45</td>\n",
       "      <td>7280.05</td>\n",
       "    </tr>\n",
       "    <tr>\n",
       "      <th>2</th>\n",
       "      <td>March</td>\n",
       "      <td>2017</td>\n",
       "      <td>60</td>\n",
       "      <td>5778.5</td>\n",
       "      <td>-172.20</td>\n",
       "      <td>-1017.20</td>\n",
       "      <td>4589.10</td>\n",
       "      <td>707.43</td>\n",
       "      <td>5296.53</td>\n",
       "    </tr>\n",
       "    <tr>\n",
       "      <th>3</th>\n",
       "      <td>April</td>\n",
       "      <td>2017</td>\n",
       "      <td>70</td>\n",
       "      <td>8814.0</td>\n",
       "      <td>-281.40</td>\n",
       "      <td>0.00</td>\n",
       "      <td>8532.60</td>\n",
       "      <td>1068.30</td>\n",
       "      <td>9600.90</td>\n",
       "    </tr>\n",
       "    <tr>\n",
       "      <th>4</th>\n",
       "      <td>May</td>\n",
       "      <td>2017</td>\n",
       "      <td>54</td>\n",
       "      <td>6677.0</td>\n",
       "      <td>-185.75</td>\n",
       "      <td>-253.80</td>\n",
       "      <td>6237.45</td>\n",
       "      <td>866.46</td>\n",
       "      <td>7103.91</td>\n",
       "    </tr>\n",
       "    <tr>\n",
       "      <th>5</th>\n",
       "      <td>June</td>\n",
       "      <td>2017</td>\n",
       "      <td>68</td>\n",
       "      <td>9621.5</td>\n",
       "      <td>-234.45</td>\n",
       "      <td>-17.50</td>\n",
       "      <td>9369.55</td>\n",
       "      <td>1204.32</td>\n",
       "      <td>10573.87</td>\n",
       "    </tr>\n",
       "  </tbody>\n",
       "</table>\n",
       "</div>"
      ],
      "text/plain": [
       "      Month  Year  Total Orders  Gross Sales  Discounts  Returns  Net Sales  \\\n",
       "0   January  2017            73       8861.5    -129.40  -448.45    8283.65   \n",
       "1  February  2017            56       6908.5    -104.70  -416.20    6387.60   \n",
       "2     March  2017            60       5778.5    -172.20 -1017.20    4589.10   \n",
       "3     April  2017            70       8814.0    -281.40     0.00    8532.60   \n",
       "4       May  2017            54       6677.0    -185.75  -253.80    6237.45   \n",
       "5      June  2017            68       9621.5    -234.45   -17.50    9369.55   \n",
       "\n",
       "   Shipping  Total Sales  \n",
       "0   1088.30      9371.95  \n",
       "1    892.45      7280.05  \n",
       "2    707.43      5296.53  \n",
       "3   1068.30      9600.90  \n",
       "4    866.46      7103.91  \n",
       "5   1204.32     10573.87  "
      ]
     },
     "execution_count": 6,
     "metadata": {},
     "output_type": "execute_result"
    }
   ],
   "source": [
    "busretail_df.head(6)"
   ]
  },
  {
   "cell_type": "code",
   "execution_count": 7,
   "id": "63cd6aa9",
   "metadata": {},
   "outputs": [
    {
     "name": "stdout",
     "output_type": "stream",
     "text": [
      "<class 'pandas.core.frame.DataFrame'>\n",
      "RangeIndex: 36 entries, 0 to 35\n",
      "Data columns (total 9 columns):\n",
      " #   Column        Non-Null Count  Dtype  \n",
      "---  ------        --------------  -----  \n",
      " 0   Month         36 non-null     object \n",
      " 1   Year          36 non-null     int64  \n",
      " 2   Total Orders  36 non-null     int64  \n",
      " 3   Gross Sales   36 non-null     float64\n",
      " 4   Discounts     36 non-null     float64\n",
      " 5   Returns       36 non-null     float64\n",
      " 6   Net Sales     36 non-null     float64\n",
      " 7   Shipping      36 non-null     float64\n",
      " 8   Total Sales   36 non-null     float64\n",
      "dtypes: float64(6), int64(2), object(1)\n",
      "memory usage: 2.7+ KB\n"
     ]
    }
   ],
   "source": [
    "busretail_df.info()"
   ]
  },
  {
   "cell_type": "markdown",
   "id": "49cfca96",
   "metadata": {},
   "source": [
    "**There is no null value in all the cloumn and the dtype are accurate as well.**"
   ]
  },
  {
   "cell_type": "code",
   "execution_count": 9,
   "id": "58c7c245",
   "metadata": {},
   "outputs": [
    {
     "data": {
      "text/html": [
       "<div>\n",
       "<style scoped>\n",
       "    .dataframe tbody tr th:only-of-type {\n",
       "        vertical-align: middle;\n",
       "    }\n",
       "\n",
       "    .dataframe tbody tr th {\n",
       "        vertical-align: top;\n",
       "    }\n",
       "\n",
       "    .dataframe thead th {\n",
       "        text-align: right;\n",
       "    }\n",
       "</style>\n",
       "<table border=\"1\" class=\"dataframe\">\n",
       "  <thead>\n",
       "    <tr style=\"text-align: right;\">\n",
       "      <th></th>\n",
       "      <th>Year</th>\n",
       "      <th>Total Orders</th>\n",
       "      <th>Gross Sales</th>\n",
       "      <th>Discounts</th>\n",
       "      <th>Returns</th>\n",
       "      <th>Net Sales</th>\n",
       "      <th>Shipping</th>\n",
       "      <th>Total Sales</th>\n",
       "    </tr>\n",
       "  </thead>\n",
       "  <tbody>\n",
       "    <tr>\n",
       "      <th>count</th>\n",
       "      <td>36.000000</td>\n",
       "      <td>36.000000</td>\n",
       "      <td>36.000000</td>\n",
       "      <td>36.000000</td>\n",
       "      <td>36.000000</td>\n",
       "      <td>36.000000</td>\n",
       "      <td>36.000000</td>\n",
       "      <td>36.000000</td>\n",
       "    </tr>\n",
       "    <tr>\n",
       "      <th>mean</th>\n",
       "      <td>2018.000000</td>\n",
       "      <td>97.138889</td>\n",
       "      <td>9844.926389</td>\n",
       "      <td>-311.493889</td>\n",
       "      <td>-474.958056</td>\n",
       "      <td>9058.474444</td>\n",
       "      <td>1579.391667</td>\n",
       "      <td>10637.941111</td>\n",
       "    </tr>\n",
       "    <tr>\n",
       "      <th>std</th>\n",
       "      <td>0.828079</td>\n",
       "      <td>57.458632</td>\n",
       "      <td>4936.386351</td>\n",
       "      <td>362.766989</td>\n",
       "      <td>488.820410</td>\n",
       "      <td>4497.185264</td>\n",
       "      <td>1011.170014</td>\n",
       "      <td>5475.621125</td>\n",
       "    </tr>\n",
       "    <tr>\n",
       "      <th>min</th>\n",
       "      <td>2017.000000</td>\n",
       "      <td>54.000000</td>\n",
       "      <td>5720.000000</td>\n",
       "      <td>-2269.510000</td>\n",
       "      <td>-1572.550000</td>\n",
       "      <td>4589.100000</td>\n",
       "      <td>695.420000</td>\n",
       "      <td>5296.530000</td>\n",
       "    </tr>\n",
       "    <tr>\n",
       "      <th>25%</th>\n",
       "      <td>2017.000000</td>\n",
       "      <td>68.000000</td>\n",
       "      <td>7059.875000</td>\n",
       "      <td>-300.375000</td>\n",
       "      <td>-867.200000</td>\n",
       "      <td>6428.250000</td>\n",
       "      <td>1083.300000</td>\n",
       "      <td>7633.692500</td>\n",
       "    </tr>\n",
       "    <tr>\n",
       "      <th>50%</th>\n",
       "      <td>2018.000000</td>\n",
       "      <td>82.500000</td>\n",
       "      <td>8850.500000</td>\n",
       "      <td>-236.160000</td>\n",
       "      <td>-299.875000</td>\n",
       "      <td>8076.430000</td>\n",
       "      <td>1341.650000</td>\n",
       "      <td>9404.405000</td>\n",
       "    </tr>\n",
       "    <tr>\n",
       "      <th>75%</th>\n",
       "      <td>2019.000000</td>\n",
       "      <td>97.500000</td>\n",
       "      <td>10150.700000</td>\n",
       "      <td>-169.487500</td>\n",
       "      <td>-73.277500</td>\n",
       "      <td>9534.000000</td>\n",
       "      <td>1632.132500</td>\n",
       "      <td>11153.687500</td>\n",
       "    </tr>\n",
       "    <tr>\n",
       "      <th>max</th>\n",
       "      <td>2019.000000</td>\n",
       "      <td>342.000000</td>\n",
       "      <td>31183.900000</td>\n",
       "      <td>-51.500000</td>\n",
       "      <td>0.000000</td>\n",
       "      <td>27603.210000</td>\n",
       "      <td>5703.250000</td>\n",
       "      <td>33306.460000</td>\n",
       "    </tr>\n",
       "  </tbody>\n",
       "</table>\n",
       "</div>"
      ],
      "text/plain": [
       "              Year  Total Orders   Gross Sales    Discounts      Returns  \\\n",
       "count    36.000000     36.000000     36.000000    36.000000    36.000000   \n",
       "mean   2018.000000     97.138889   9844.926389  -311.493889  -474.958056   \n",
       "std       0.828079     57.458632   4936.386351   362.766989   488.820410   \n",
       "min    2017.000000     54.000000   5720.000000 -2269.510000 -1572.550000   \n",
       "25%    2017.000000     68.000000   7059.875000  -300.375000  -867.200000   \n",
       "50%    2018.000000     82.500000   8850.500000  -236.160000  -299.875000   \n",
       "75%    2019.000000     97.500000  10150.700000  -169.487500   -73.277500   \n",
       "max    2019.000000    342.000000  31183.900000   -51.500000     0.000000   \n",
       "\n",
       "          Net Sales     Shipping   Total Sales  \n",
       "count     36.000000    36.000000     36.000000  \n",
       "mean    9058.474444  1579.391667  10637.941111  \n",
       "std     4497.185264  1011.170014   5475.621125  \n",
       "min     4589.100000   695.420000   5296.530000  \n",
       "25%     6428.250000  1083.300000   7633.692500  \n",
       "50%     8076.430000  1341.650000   9404.405000  \n",
       "75%     9534.000000  1632.132500  11153.687500  \n",
       "max    27603.210000  5703.250000  33306.460000  "
      ]
     },
     "execution_count": 9,
     "metadata": {},
     "output_type": "execute_result"
    }
   ],
   "source": [
    "busretail_df.describe()"
   ]
  },
  {
   "cell_type": "code",
   "execution_count": 10,
   "id": "c89d1b62",
   "metadata": {},
   "outputs": [
    {
     "data": {
      "text/plain": [
       "0"
      ]
     },
     "execution_count": 10,
     "metadata": {},
     "output_type": "execute_result"
    }
   ],
   "source": [
    "busretail_df.duplicated().sum()"
   ]
  },
  {
   "cell_type": "markdown",
   "id": "2a2c9a2a",
   "metadata": {},
   "source": [
    "**No duplicated file found**"
   ]
  },
  {
   "cell_type": "code",
   "execution_count": 11,
   "id": "a7c14bf0",
   "metadata": {},
   "outputs": [
    {
     "data": {
      "text/html": [
       "<div>\n",
       "<style scoped>\n",
       "    .dataframe tbody tr th:only-of-type {\n",
       "        vertical-align: middle;\n",
       "    }\n",
       "\n",
       "    .dataframe tbody tr th {\n",
       "        vertical-align: top;\n",
       "    }\n",
       "\n",
       "    .dataframe thead th {\n",
       "        text-align: right;\n",
       "    }\n",
       "</style>\n",
       "<table border=\"1\" class=\"dataframe\">\n",
       "  <thead>\n",
       "    <tr style=\"text-align: right;\">\n",
       "      <th></th>\n",
       "      <th>Month</th>\n",
       "      <th>Year</th>\n",
       "      <th>Total Orders</th>\n",
       "      <th>Gross Sales</th>\n",
       "      <th>Discounts</th>\n",
       "      <th>Returns</th>\n",
       "      <th>Net Sales</th>\n",
       "      <th>Shipping</th>\n",
       "      <th>Total Sales</th>\n",
       "    </tr>\n",
       "  </thead>\n",
       "  <tbody>\n",
       "    <tr>\n",
       "      <th>30</th>\n",
       "      <td>July</td>\n",
       "      <td>2019</td>\n",
       "      <td>94</td>\n",
       "      <td>9739.20</td>\n",
       "      <td>-447.07</td>\n",
       "      <td>-908.75</td>\n",
       "      <td>8383.38</td>\n",
       "      <td>1631.40</td>\n",
       "      <td>10014.78</td>\n",
       "    </tr>\n",
       "    <tr>\n",
       "      <th>31</th>\n",
       "      <td>August</td>\n",
       "      <td>2019</td>\n",
       "      <td>105</td>\n",
       "      <td>8839.50</td>\n",
       "      <td>-201.67</td>\n",
       "      <td>-84.37</td>\n",
       "      <td>8553.46</td>\n",
       "      <td>1724.75</td>\n",
       "      <td>10278.21</td>\n",
       "    </tr>\n",
       "    <tr>\n",
       "      <th>32</th>\n",
       "      <td>September</td>\n",
       "      <td>2019</td>\n",
       "      <td>88</td>\n",
       "      <td>9077.45</td>\n",
       "      <td>-354.89</td>\n",
       "      <td>-853.35</td>\n",
       "      <td>7869.21</td>\n",
       "      <td>1567.65</td>\n",
       "      <td>9436.86</td>\n",
       "    </tr>\n",
       "    <tr>\n",
       "      <th>33</th>\n",
       "      <td>October</td>\n",
       "      <td>2019</td>\n",
       "      <td>97</td>\n",
       "      <td>9132.25</td>\n",
       "      <td>-279.42</td>\n",
       "      <td>-1572.55</td>\n",
       "      <td>7280.28</td>\n",
       "      <td>1631.25</td>\n",
       "      <td>8911.53</td>\n",
       "    </tr>\n",
       "    <tr>\n",
       "      <th>34</th>\n",
       "      <td>November</td>\n",
       "      <td>2019</td>\n",
       "      <td>272</td>\n",
       "      <td>23997.90</td>\n",
       "      <td>-776.84</td>\n",
       "      <td>-364.51</td>\n",
       "      <td>22856.55</td>\n",
       "      <td>4824.75</td>\n",
       "      <td>27681.30</td>\n",
       "    </tr>\n",
       "    <tr>\n",
       "      <th>35</th>\n",
       "      <td>December</td>\n",
       "      <td>2019</td>\n",
       "      <td>342</td>\n",
       "      <td>31183.90</td>\n",
       "      <td>-2269.51</td>\n",
       "      <td>-1311.18</td>\n",
       "      <td>27603.21</td>\n",
       "      <td>5703.25</td>\n",
       "      <td>33306.46</td>\n",
       "    </tr>\n",
       "  </tbody>\n",
       "</table>\n",
       "</div>"
      ],
      "text/plain": [
       "        Month  Year  Total Orders  Gross Sales  Discounts  Returns  Net Sales  \\\n",
       "30       July  2019            94      9739.20    -447.07  -908.75    8383.38   \n",
       "31     August  2019           105      8839.50    -201.67   -84.37    8553.46   \n",
       "32  September  2019            88      9077.45    -354.89  -853.35    7869.21   \n",
       "33    October  2019            97      9132.25    -279.42 -1572.55    7280.28   \n",
       "34   November  2019           272     23997.90    -776.84  -364.51   22856.55   \n",
       "35   December  2019           342     31183.90   -2269.51 -1311.18   27603.21   \n",
       "\n",
       "    Shipping  Total Sales  \n",
       "30   1631.40     10014.78  \n",
       "31   1724.75     10278.21  \n",
       "32   1567.65      9436.86  \n",
       "33   1631.25      8911.53  \n",
       "34   4824.75     27681.30  \n",
       "35   5703.25     33306.46  "
      ]
     },
     "execution_count": 11,
     "metadata": {},
     "output_type": "execute_result"
    }
   ],
   "source": [
    "busretail_df.tail(6)"
   ]
  },
  {
   "cell_type": "code",
   "execution_count": 12,
   "id": "a153fac1",
   "metadata": {},
   "outputs": [],
   "source": [
    "busretail_df.to_csv('Business.retailsdataset_cleaned')"
   ]
  },
  {
   "cell_type": "code",
   "execution_count": 13,
   "id": "e6f5d22f",
   "metadata": {},
   "outputs": [],
   "source": [
    "num = busretail_df.select_dtypes(include =['int64','float64'])"
   ]
  },
  {
   "cell_type": "code",
   "execution_count": 14,
   "id": "75904d2e",
   "metadata": {},
   "outputs": [],
   "source": [
    "num_columns = [i for i in num.columns]"
   ]
  },
  {
   "cell_type": "code",
   "execution_count": 15,
   "id": "454a23a3",
   "metadata": {},
   "outputs": [
    {
     "data": {
      "text/plain": [
       "['Year',\n",
       " 'Total Orders',\n",
       " 'Gross Sales',\n",
       " 'Discounts',\n",
       " 'Returns',\n",
       " 'Net Sales',\n",
       " 'Shipping',\n",
       " 'Total Sales']"
      ]
     },
     "execution_count": 15,
     "metadata": {},
     "output_type": "execute_result"
    }
   ],
   "source": [
    "num_columns"
   ]
  },
  {
   "cell_type": "code",
   "execution_count": 16,
   "id": "02fd487f",
   "metadata": {},
   "outputs": [
    {
     "name": "stdout",
     "output_type": "stream",
     "text": [
      "stats for Year\n",
      "Total: 72648\n",
      "Average: 2018.0\n",
      "----------\n",
      "stats for Total Orders\n",
      "Total: 3497\n",
      "Average: 97.13888888888889\n",
      "----------\n",
      "stats for Gross Sales\n",
      "Total: 354417.35000000003\n",
      "Average: 9844.926388888889\n",
      "----------\n",
      "stats for Discounts\n",
      "Total: -11213.779999999999\n",
      "Average: -311.4938888888889\n",
      "----------\n",
      "stats for Returns\n",
      "Total: -17098.489999999998\n",
      "Average: -474.9580555555555\n",
      "----------\n",
      "stats for Net Sales\n",
      "Total: 326105.08\n",
      "Average: 9058.474444444444\n",
      "----------\n",
      "stats for Shipping\n",
      "Total: 56858.1\n",
      "Average: 1579.3916666666667\n",
      "----------\n",
      "stats for Total Sales\n",
      "Total: 382965.88\n",
      "Average: 10637.941111111111\n",
      "----------\n"
     ]
    }
   ],
   "source": [
    "for col in num_columns:\n",
    "    print(f'stats for {col}')\n",
    "    print(f'Total: {busretail_df[col].sum()}')\n",
    "    print(f'Average: {busretail_df[col].mean()}')\n",
    "    print('----------')"
   ]
  },
  {
   "cell_type": "code",
   "execution_count": 17,
   "id": "a75f38c0",
   "metadata": {},
   "outputs": [
    {
     "data": {
      "text/plain": [
       "<Figure size 2000x800 with 0 Axes>"
      ]
     },
     "execution_count": 17,
     "metadata": {},
     "output_type": "execute_result"
    },
    {
     "data": {
      "text/plain": [
       "<Figure size 2000x800 with 0 Axes>"
      ]
     },
     "metadata": {},
     "output_type": "display_data"
    }
   ],
   "source": [
    "import matplotlib.pyplot as plt \n",
    "import seaborn as sb \n",
    "\n",
    "%matplotlib inline \n",
    "plt.figure(figsize=(20,8))"
   ]
  },
  {
   "cell_type": "code",
   "execution_count": 25,
   "id": "d4c7e7dc",
   "metadata": {},
   "outputs": [],
   "source": [
    "busretail_df_Total_sales_perYear = busretail_df.groupby(by= 'Year')[['Total Sales']].sum()"
   ]
  },
  {
   "cell_type": "code",
   "execution_count": 26,
   "id": "5d14bdb4",
   "metadata": {},
   "outputs": [
    {
     "data": {
      "text/html": [
       "<div>\n",
       "<style scoped>\n",
       "    .dataframe tbody tr th:only-of-type {\n",
       "        vertical-align: middle;\n",
       "    }\n",
       "\n",
       "    .dataframe tbody tr th {\n",
       "        vertical-align: top;\n",
       "    }\n",
       "\n",
       "    .dataframe thead th {\n",
       "        text-align: right;\n",
       "    }\n",
       "</style>\n",
       "<table border=\"1\" class=\"dataframe\">\n",
       "  <thead>\n",
       "    <tr style=\"text-align: right;\">\n",
       "      <th></th>\n",
       "      <th>Total Sales</th>\n",
       "    </tr>\n",
       "    <tr>\n",
       "      <th>Year</th>\n",
       "      <th></th>\n",
       "    </tr>\n",
       "  </thead>\n",
       "  <tbody>\n",
       "    <tr>\n",
       "      <th>2017</th>\n",
       "      <td>103497.27</td>\n",
       "    </tr>\n",
       "    <tr>\n",
       "      <th>2018</th>\n",
       "      <td>123568.28</td>\n",
       "    </tr>\n",
       "    <tr>\n",
       "      <th>2019</th>\n",
       "      <td>155900.33</td>\n",
       "    </tr>\n",
       "  </tbody>\n",
       "</table>\n",
       "</div>"
      ],
      "text/plain": [
       "      Total Sales\n",
       "Year             \n",
       "2017    103497.27\n",
       "2018    123568.28\n",
       "2019    155900.33"
      ]
     },
     "execution_count": 26,
     "metadata": {},
     "output_type": "execute_result"
    }
   ],
   "source": [
    "busretail_df_Total_sales_perYear"
   ]
  },
  {
   "cell_type": "markdown",
   "id": "5709015e",
   "metadata": {},
   "source": [
    "**According to the data on the table above, it is clearly showned that the business is making profit over the years**"
   ]
  },
  {
   "cell_type": "code",
   "execution_count": 29,
   "id": "068128dd",
   "metadata": {},
   "outputs": [
    {
     "data": {
      "image/png": "[encoded data removed]",
      "text/plain": [
       "<Figure size 640x480 with 1 Axes>"
      ]
     },
     "metadata": {},
     "output_type": "display_data"
    }
   ],
   "source": [
    "plt.plot(busretail_df_Total_sales_perYear.index)\n",
    "plt.title('Trend of sales per year')\n",
    "plt.xlabel('Total sales')\n",
    "plt.ylabel('Year')\n",
    "plt.show()"
   ]
  },
  {
   "cell_type": "markdown",
   "id": "72907a44",
   "metadata": {},
   "source": [
    "**The trend displays a perfect linear curve graph on the total sales by year which means the business has being productive**"
   ]
  },
  {
   "cell_type": "markdown",
   "id": "58ef3d6a",
   "metadata": {},
   "source": [
    "## Summary \n",
    "**After a careful scrutinization of the data, it is shown that the business is productive although there is room for more productivity if you cut down the rate of discount but you will have to look for other means to sustain your customer base while cutting down the discount.\n",
    "The marketing department can come up with a very suitable way of increasing customers retention while the business finds other means of cutting down the discount that it will not affect the customer base.**"
   ]
  },
  {
   "cell_type": "code",
   "execution_count": null,
   "id": "3d515a67",
   "metadata": {},
   "outputs": [],
   "source": []
  }
 ],
 "metadata": {
  "kernelspec": {
   "display_name": "Python 3 (ipykernel)",
   "language": "python",
   "name": "python3"
  },
  "language_info": {
   "codemirror_mode": {
    "name": "ipython",
    "version": 3
   },
   "file_extension": ".py",
   "mimetype": "text/x-python",
   "name": "python",
   "nbconvert_exporter": "python",
   "pygments_lexer": "ipython3",
   "version": "3.11.5"
  }
 },
 "nbformat": 4,
 "nbformat_minor": 5
}
